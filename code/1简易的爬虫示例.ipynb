{
 "cells": [
  {
   "cell_type": "code",
   "execution_count": 43,
   "metadata": {},
   "outputs": [],
   "source": [
    "import requests\n",
    "url = \"https://ict.gdqy.edu.cn/xwdt1.htm\"\n",
    "resp = requests.get(url)\n",
    "resp.encoding = 'utf-8'\n",
    "data = resp.text"
   ]
  },
  {
   "cell_type": "code",
   "execution_count": 44,
   "metadata": {},
   "outputs": [
    {
     "data": {
      "text/plain": [
       "9689"
      ]
     },
     "execution_count": 44,
     "metadata": {},
     "output_type": "execute_result"
    }
   ],
   "source": [
    "len(data)"
   ]
  },
  {
   "cell_type": "code",
   "execution_count": 45,
   "metadata": {},
   "outputs": [
    {
     "name": "stdout",
     "output_type": "stream",
     "text": [
      "<class 'str'>\n"
     ]
    }
   ],
   "source": [
    "print(type(data))"
   ]
  },
  {
   "cell_type": "code",
   "execution_count": 46,
   "metadata": {},
   "outputs": [
    {
     "name": "stdout",
     "output_type": "stream",
     "text": [
      "﻿<!DOCTYPE html>\n",
      "<html lang=\"en\">\n",
      "<head>\n",
      "  <meta charset=\"UTF-8\">\n",
      "  <title>新闻动态-信息技术学院</title><meta name=\"pageType\" content=\"2\">\n",
      "<meta name=\"pageTitle\" content=\"新闻动态\">\n",
      "<META Name=\"keywords\" Content=\"信息技术学院,新闻动态\" />\n",
      "\n",
      "\n",
      "  <link rel=\"stylesheet\" href=\"dfiles/11271/viscms/r/cms/xxxy/default/web2/css/base.css\">\n",
      "  <link rel=\"stylesheet\" href=\"dfiles/11271/viscms/r/cms/xxxy/default/web2/css/header.css\">\n",
      "  <link rel=\"stylesheet\" href=\"dfiles/11271/viscms/r/cms/xxxy/default/web2/css/footer.css\">\n",
      "  <link rel=\"stylesheet\" href=\"dfiles/11271/viscms/r/cms/xxxy/default/web2/css/sidebar.css\">\n",
      "  <link rel=\"stylesheet\" href=\"dfiles/11271/viscms/r/cms/xxxy/default/web2/css/breadcrumb.css\">\n",
      "  <link rel=\"stylesheet\" href=\"dfiles/11271/viscms/r/cms/xxxy/default/web2/css/list_1.css\">\n",
      "  <link rel=\"stylesheet\" href=\"dfiles/11271/viscms/r/cms/xxxy/default/web2/css/details.css\">\n",
      "  <link rel=\"stylesheet\" href=\"dfiles/11271/viscms/r/cms/xxxy/default/web2/css/mixin.css\">\n",
      "\n",
      "<!--Announced by Visual SiteBuilder 9-->\n",
      "<script language=\"javascript\" src=\"_sitegray/_sitegray.js\"></script>\n",
      "<!-- CustomerNO:77656262657232307c78475050505742000400004757 -->\n",
      "<link rel=\"stylesheet\" type=\"text/css\" href=\"copy_1_list.vsb.css\" />\n",
      "<body><script type=\"text/javascript\" src=\"/system/resource/js/counter.js\"></script>\n",
      "<script type=\"text/javascript\">_jsq_(1063,'/copy_1_list.jsp',-1,1605458403)</script>\n",
      "</head>\n",
      "  \n",
      "  <!-- 头部 -->\n",
      "        <div id=\"header\" class=\"clearfix\">\n",
      "            <!-- 大图 -->\n",
      "            <div class=\"banner\"><a><img class=\"bannerBg\" src=\"dfiles/11271/viscms/r/cms/xxxy/default/web2/img/banner/item1.jpg\"><img src=\"dfiles/11271/viscms/r/cms/xxxy/default/web2/img/banner/header_title_new.jpg\"></a></div>\n",
      "    \n",
      "            <!-- 导航 -->\n",
      "            <div class=\"navbar\">\n",
      "                <div class=\"container\">\n",
      "                    <ul class=\"navbar-list clearfix\">\n",
      "<li class=\"item\"><a class=\"link\" href=\"index.htm\"><span>首页</span></a>\n",
      "<li class=\"spacer\"></li>\n",
      "<li class=\"item\"><a class=\"link\" href=\"xygk1.htm\"><span>学院概况</span></a>\n",
      "         <ul class=\"dropdown text-left\">\n",
      "              <li> <a href=\"xygk1/xyld1.htm\">学院领导</a>                        \n",
      "            </li>   \n",
      "              <li> <a href=\"xygk1/xyjs1.htm\">学院介绍</a>                        \n",
      "            </li>   \n",
      "              <li> <a href=\"xygk1/lxwm1.htm\">联系我们</a>                        \n",
      "            </li>   \n",
      "     </ul>\n",
      "</li>\n",
      "\n",
      "<li class=\"spacer\"></li>\n",
      "<li class=\"item\"><a class=\"link\" href=\"sztd.htm\"><span>师资团队</span></a>\n",
      "         <ul class=\"dropdown text-left\">\n",
      "              <li> <a href=\"sztd/szgk.htm\">师资概况</a>                        \n",
      "            </li>   \n",
      "     </ul>\n",
      "</li>\n",
      "\n",
      "<li class=\"spacer\"></li>\n",
      "<li class=\"item\"><a class=\"link\" href=\"sxjx1.htm\"><span>实训教学</span></a>\n",
      "         <ul class=\"dropdown text-left\">\n",
      "              <li> <a href=\"sxjx1/xnsxs.htm\">校内实训室</a>                        \n",
      "            </li>   \n",
      "              <li> <a href=\"sxjx1/xwsxjd.htm\">校外实训基地</a>                        \n",
      "            </li>   \n",
      "              <li> <a href=\"sxjx1/jxaq.htm\">教学安全</a>                        \n",
      "            </li>   \n",
      "     </ul>\n",
      "</li>\n",
      "\n",
      "<li class=\"spacer\"></li>\n",
      "<li class=\"item\"><a class=\"link\" href=\"xkjs.htm\"><span>学科竞赛</span></a>\n",
      "         <ul class=\"dropdown text-left\">\n",
      "              <li> <a href=\"xkjs/zyjsylc.htm\">专业竞赛与历程</a>                        \n",
      "            </li>   \n",
      "     </ul>\n",
      "</li>\n",
      "\n",
      "<li class=\"spacer\"></li>\n",
      "<li class=\"item\"><a class=\"link\" href=\"dtgz1.htm\"><span>党团工作</span></a>\n",
      "         <ul class=\"dropdown text-left\">\n",
      "              <li> <a href=\"dtgz1/dtgj.htm\">党团共建</a>                        \n",
      "            </li>   \n",
      "              <li> <a href=\"dtgz1/wsdx.htm\">网上党校</a>                        \n",
      "            </li>   \n",
      "              <li> <a href=\"dtgz1/djdt.htm\">党建动态</a>                        \n",
      "            </li>   \n",
      "              <li> <a href=\"dtgz1/ppts.htm\">品牌特色</a>                        \n",
      "            </li>   \n",
      "     </ul>\n",
      "</li>\n",
      "\n",
      "<li class=\"spacer\"></li>\n",
      "<li class=\"item\"><a class=\"link\" href=\"zsjy.htm\"><span>招生就业</span></a>\n",
      "         <ul class=\"dropdown text-left\">\n",
      "              <li> <a href=\"zsjy/zsxx.htm\">招生信息</a>                        \n",
      "            </li>   \n",
      "     </ul>\n",
      "</li>\n",
      "\n",
      "<li class=\"spacer\"></li>\n",
      "<li class=\"item\"><a class=\"link\" href=\"IEETrz.htm\"><span>IEET认证</span></a>\n",
      "<li class=\"spacer\"></li>\n",
      "</ul>\n",
      "                </div>\n",
      "            </div>\n",
      "        </div>\n",
      "\n",
      "  <div class=\"content\">\n",
      "    <div class=\"container clearfix\">\n",
      "\n",
      "      <!-- 侧边栏 -->\n",
      "      <div id=\"sidebar\" class=\"left\">\n",
      "      <h2 class=\"title text-left\">\n",
      "新闻动态</h2>\n",
      "      \n",
      "        <ul class=\"sidebar-list text-left\">\n",
      "              <li>\n",
      "                <a href=\"xwdt1/zxdt1.htm\">新闻动态</a>\n",
      "              </li>\n",
      "              <li>\n",
      "                <a href=\"xwdt1/zhxw1.htm\">综合新闻</a>\n",
      "              </li>\n",
      "          \n",
      "        </ul>\n",
      "      </div><!-- 侧边栏结束 -->\n",
      "\n",
      "      <div class=\"wrap clearfix\">\n",
      "        <div class=\"box left\">\n",
      " <ul id=\"breadcrumb\" class=\"clearfix\">\n",
      "          <!-- 当前位置 -->\n",
      "         <li> 当前位置: </li>\n",
      "         \n",
      "        <li>  <a href=\"index.htm\">首页</a></li>\n",
      " \n",
      "                 <li class=\"spacer\">&gt;</li> \n",
      "        <li>  <a href=\"xwdt1.htm\">新闻动态</a></li>\n",
      "\n",
      "</ul>\n",
      "          <!-- 列表 -->\n",
      "         \n",
      "\n",
      "\n",
      "<script language=\"javascript\" src=\"/system/resource/js/centerCutImg.js\"></script><script language=\"javascript\" src=\"/system/resource/js/dynclicks.js\"></script><script language=\"javascript\" src=\"/system/resource/js/ajax.js\"></script>  <UL id=\"list_1\">\n",
      "            <li class=\"text-left\"><span class=\"time right\">2024年11月11日</span>\n",
      "            <a href=\"info/1064/3953.htm\" target=\"_blank\" title=\"信息技术学院推荐参加学校第二十三届“挑战杯”大学生课外学术科技作品的公示\">信息技术学院推荐参加学校第二十三届“挑战杯”大学生课外学术科技作品的公示</a>\n",
      "         </li>\n",
      "       \n",
      "        <li class=\"text-left\"><span class=\"time right\">2024年11月05日</span>\n",
      "            <a href=\"info/1064/3943.htm\" target=\"_blank\" title=\"校领导联系基层与我院新疆民族生代表共进午餐\">校领导联系基层与我院新疆民族生代表共进午餐</a>\n",
      "         </li>\n",
      "       \n",
      "        <li class=\"text-left\"><span class=\"time right\">2024年11月01日</span>\n",
      "            <a href=\"info/1064/3933.htm\" target=\"_blank\" title=\"“技炫青春 能创未来”--我院承办2024年世界职业院校技能大赛总决赛争夺赛电子信息赛道二赛道（工业互联网集成应用小组）\">“技炫青春 能创未来”--我院承办2024年世界职业院校技能大赛总决赛争夺赛电子信息赛道二赛道（工业互联网集成应用小组）</a>\n",
      "         </li>\n",
      "       \n",
      "        <li class=\"text-left\"><span class=\"time right\">2024年10月31日</span>\n",
      "            <a href=\"info/1064/3923.htm\" target=\"_blank\" title=\"信息技术学院2023-2024学年校内奖学金评审结果公示\">信息技术学院2023-2024学年校内奖学金评审结果公示</a>\n",
      "         </li>\n",
      "       \n",
      "        <li class=\"text-left\"><span class=\"time right\">2024年10月22日</span>\n",
      "            <a href=\"info/1064/3913.htm\" target=\"_blank\" title=\"梦想启航 新程璀璨——信息技术学院新生见面会圆满举行！\">梦想启航 新程璀璨——信息技术学院新生见面会圆满举行！</a>\n",
      "         </li>\n",
      "       \n",
      "        <li class=\"text-left\"><span class=\"time right\">2024年10月10日</span>\n",
      "            <a href=\"info/1064/3903.htm\" target=\"_blank\" title=\"信息技术学院2024秋季学期“思政第一课”顺利开展\">信息技术学院2024秋季学期“思政第一课”顺利开展</a>\n",
      "         </li>\n",
      "       \n",
      "        <li class=\"text-left\"><span class=\"time right\">2024年09月03日</span>\n",
      "            <a href=\"info/1064/3893.htm\" target=\"_blank\" title=\"信息技术学院全体教职工集体学习党的二十届三中全会精神\">信息技术学院全体教职工集体学习党的二十届三中全会精神</a>\n",
      "         </li>\n",
      "       \n",
      "        <li class=\"text-left\"><span class=\"time right\">2024年07月27日</span>\n",
      "            <a href=\"info/1064/3883.htm\" target=\"_blank\" title=\"2024年基于AIGC智能技术赋能中职教学培训班（国培）顺利开班\">2024年基于AIGC智能技术赋能中职教学培训班（国培）顺利开班</a>\n",
      "         </li>\n",
      "       \n",
      "        <li class=\"text-left\"><span class=\"time right\">2024年07月17日</span>\n",
      "            <a href=\"info/1064/3873.htm\" target=\"_blank\" title=\"我院与中国老教授协会和清华大学教授对接座谈\">我院与中国老教授协会和清华大学教授对接座谈</a>\n",
      "         </li>\n",
      "       \n",
      "        <li class=\"text-left\"><span class=\"time right\">2024年07月05日</span>\n",
      "            <a href=\"info/1064/3863.htm\" target=\"_blank\" title=\"广东轻工职业技术大学“百千万工程”数字科技人突击队携德庆县两镇共绘合作新蓝图\">广东轻工职业技术大学“百千万工程”数字科技人突击队携德庆县两镇共绘合作新蓝图</a>\n",
      "         </li>\n",
      "       \n",
      "           <div class=\"page text-center\">\n",
      "<div>  \n",
      "    <link rel=\"stylesheet\" Content-type=\"text/css\" href=\"/system/resource/css/pagedown/sys.css\"><div class=\"pb_sys_common pb_sys_normal pb_sys_style1\" style=\"margin-top:10px;text-align:center;\"><span class=\"p_t\">共292条</span> <span class=\"p_pages\"><span class=\"p_first_d p_fun_d\">首页</span><span class=\"p_prev_d p_fun_d\">上页</span><span class=\"p_no_d\">1</span><span class=\"p_no\"><a href=\"xwdt1/29.htm\">2</a></span><span class=\"p_no\"><a href=\"xwdt1/28.htm\">3</a></span><span class=\"p_no\"><a href=\"xwdt1/27.htm\">4</a></span><span class=\"p_no\"><a href=\"xwdt1/26.htm\">5</a></span><span class=\"p_dot\">...</span><span class=\"p_no\"><a href=\"xwdt1/1.htm\">30</a></span><span class=\"p_next p_fun\"><a href=\"xwdt1/29.htm\">下页</a></span><span class=\"p_last p_fun\"><a href=\"xwdt1/1.htm\">尾页</a></span></span></div></div>          </div>\n",
      " </UL><script>_showDynClickBatch(['dynclicks_u3_3953','dynclicks_u3_3943','dynclicks_u3_3933','dynclicks_u3_3923','dynclicks_u3_3913','dynclicks_u3_3903','dynclicks_u3_3893','dynclicks_u3_3883','dynclicks_u3_3873','dynclicks_u3_3863'],[3953,3943,3933,3923,3913,3903,3893,3883,3873,3863],\"wbnews\", 1605458403)</script>\n",
      "          \n",
      "        </div>\n",
      "      </div>\n",
      "      \n",
      "    </div>\n",
      "  </div>\n",
      "  \n",
      "  <!-- 页脚 -->\n",
      "    <div id=\"footer\">\n",
      "    <div class=\"container\">\n",
      "      <div class=\"copy\"><!-- 版权内容请在本组件\"内容配置-版权\"处填写 -->\n",
      "<p>网页设计: 陈志成 朱凯珊&nbsp;|&nbsp;网页制作：冯俊铬 林柏坤 彭志江</p>\n",
      "        <p>广州校区电话：020-61239458&nbsp;|&nbsp;南海校区电话：0757-88576133&nbsp;|&nbsp;2016 广东轻工职业技术学院. All Rights Reserved.</p></div>\n",
      "    </div>\n",
      "  </div><!-- 页脚结束 -->\n",
      "\n",
      "    <script src=\"dfiles/11271/viscms/r/cms/jquery.js\" type=\"text/javascript\"></script>\n",
      "    <script src=\"dfiles/11271/viscms/r/cms/xxxy/default/web2/js/header.js\"></script>\n",
      "</body>\n",
      "</html>\n",
      "\n",
      "\n",
      "\n",
      "\n",
      "\n",
      "\n",
      "\n",
      "\n",
      "\n",
      "\n",
      "\n",
      "\n",
      "\n",
      "\n",
      "\n",
      "\n",
      "\n"
     ]
    }
   ],
   "source": [
    "print(data)"
   ]
  },
  {
   "cell_type": "code",
   "execution_count": 47,
   "metadata": {},
   "outputs": [],
   "source": [
    "#接下来使用bs4分析网页数据\n",
    "from bs4 import BeautifulSoup"
   ]
  },
  {
   "cell_type": "code",
   "execution_count": 48,
   "metadata": {},
   "outputs": [],
   "source": [
    "bs = BeautifulSoup(data, \"html.parser\")"
   ]
  },
  {
   "cell_type": "code",
   "execution_count": 49,
   "metadata": {},
   "outputs": [
    {
     "data": {
      "text/plain": [
       "'新闻动态-信息技术学院'"
      ]
     },
     "execution_count": 49,
     "metadata": {},
     "output_type": "execute_result"
    }
   ],
   "source": [
    "#获得页面的标题\n",
    "bs.title.text"
   ]
  },
  {
   "cell_type": "code",
   "execution_count": 50,
   "metadata": {},
   "outputs": [
    {
     "name": "stdout",
     "output_type": "stream",
     "text": [
      "\n"
     ]
    }
   ],
   "source": [
    "'''\n",
    "find_all(name, attrs, recursive, string, **kwargs)\n",
    "name: 字符串，用于匹配标签的名称（如 'a'，'div' 等）。可以传递一个字符串，列表，正则表达式或 True。\n",
    "attrs: 字典，用于匹配标签的属性（如 {'id': 'list_1'}）。\n",
    "recursive: 布尔值，指定是否递归搜索文档的子标签。默认为 True。\n",
    "string: 字符串或正则表达式，用于匹配标签内的文本内容。\n",
    "**kwargs: 其他关键字参数，如 class_ 用于匹配 CSS 类名，id 用于匹配 ID 等。注意，这里的 class_ 有一个下划线，因为 class 是 Python 的保留关键字。\n",
    "返回值：一个包含所有匹配标签的列表（Tag 对象列表）。\n",
    "\n",
    "find(name, attrs, recursive, string, **kwargs)\n",
    "参数与 find_all 相同。\n",
    "返回值：单个 Tag 对象，表示第一个匹配的标签。如果没有找到匹配项，则返回 None。\n",
    "\n",
    "'''\n",
    "\n",
    "print('')"
   ]
  },
  {
   "cell_type": "code",
   "execution_count": 51,
   "metadata": {},
   "outputs": [
    {
     "name": "stdout",
     "output_type": "stream",
     "text": [
      "<class 'bs4.element.Tag'>\n"
     ]
    }
   ],
   "source": [
    "#获得所有新闻标签的父标签ul对象\n",
    "ar_ul = bs.find('ul', attrs={'id':'list_1'})\n",
    "print(type(ar_ul))\n"
   ]
  },
  {
   "cell_type": "code",
   "execution_count": 52,
   "metadata": {},
   "outputs": [
    {
     "name": "stdout",
     "output_type": "stream",
     "text": [
      "[<li class=\"text-left\"><span class=\"time right\">2024年11月11日</span>\n",
      "<a href=\"info/1064/3953.htm\" target=\"_blank\" title=\"信息技术学院推荐参加学校第二十三届“挑战杯”大学生课外学术科技作品的公示\">信息技术学院推荐参加学校第二十三届“挑战杯”大学生课外学术科技作品的公示</a>\n",
      "</li>, <li class=\"text-left\"><span class=\"time right\">2024年11月05日</span>\n",
      "<a href=\"info/1064/3943.htm\" target=\"_blank\" title=\"校领导联系基层与我院新疆民族生代表共进午餐\">校领导联系基层与我院新疆民族生代表共进午餐</a>\n",
      "</li>, <li class=\"text-left\"><span class=\"time right\">2024年11月01日</span>\n",
      "<a href=\"info/1064/3933.htm\" target=\"_blank\" title=\"“技炫青春 能创未来”--我院承办2024年世界职业院校技能大赛总决赛争夺赛电子信息赛道二赛道（工业互联网集成应用小组）\">“技炫青春 能创未来”--我院承办2024年世界职业院校技能大赛总决赛争夺赛电子信息赛道二赛道（工业互联网集成应用小组）</a>\n",
      "</li>, <li class=\"text-left\"><span class=\"time right\">2024年10月31日</span>\n",
      "<a href=\"info/1064/3923.htm\" target=\"_blank\" title=\"信息技术学院2023-2024学年校内奖学金评审结果公示\">信息技术学院2023-2024学年校内奖学金评审结果公示</a>\n",
      "</li>, <li class=\"text-left\"><span class=\"time right\">2024年10月22日</span>\n",
      "<a href=\"info/1064/3913.htm\" target=\"_blank\" title=\"梦想启航 新程璀璨——信息技术学院新生见面会圆满举行！\">梦想启航 新程璀璨——信息技术学院新生见面会圆满举行！</a>\n",
      "</li>, <li class=\"text-left\"><span class=\"time right\">2024年10月10日</span>\n",
      "<a href=\"info/1064/3903.htm\" target=\"_blank\" title=\"信息技术学院2024秋季学期“思政第一课”顺利开展\">信息技术学院2024秋季学期“思政第一课”顺利开展</a>\n",
      "</li>, <li class=\"text-left\"><span class=\"time right\">2024年09月03日</span>\n",
      "<a href=\"info/1064/3893.htm\" target=\"_blank\" title=\"信息技术学院全体教职工集体学习党的二十届三中全会精神\">信息技术学院全体教职工集体学习党的二十届三中全会精神</a>\n",
      "</li>, <li class=\"text-left\"><span class=\"time right\">2024年07月27日</span>\n",
      "<a href=\"info/1064/3883.htm\" target=\"_blank\" title=\"2024年基于AIGC智能技术赋能中职教学培训班（国培）顺利开班\">2024年基于AIGC智能技术赋能中职教学培训班（国培）顺利开班</a>\n",
      "</li>, <li class=\"text-left\"><span class=\"time right\">2024年07月17日</span>\n",
      "<a href=\"info/1064/3873.htm\" target=\"_blank\" title=\"我院与中国老教授协会和清华大学教授对接座谈\">我院与中国老教授协会和清华大学教授对接座谈</a>\n",
      "</li>, <li class=\"text-left\"><span class=\"time right\">2024年07月05日</span>\n",
      "<a href=\"info/1064/3863.htm\" target=\"_blank\" title=\"广东轻工职业技术大学“百千万工程”数字科技人突击队携德庆县两镇共绘合作新蓝图\">广东轻工职业技术大学“百千万工程”数字科技人突击队携德庆县两镇共绘合作新蓝图</a>\n",
      "</li>]\n"
     ]
    }
   ],
   "source": [
    "#在ul的基础之上再去获得其下的所有文章\n",
    "articles = ar_ul.find_all('li')\n",
    "print(articles)"
   ]
  },
  {
   "cell_type": "code",
   "execution_count": 53,
   "metadata": {},
   "outputs": [
    {
     "name": "stdout",
     "output_type": "stream",
     "text": [
      "[<li class=\"text-left\"><span class=\"time right\">2024年11月11日</span>\n",
      "<a href=\"info/1064/3953.htm\" target=\"_blank\" title=\"信息技术学院推荐参加学校第二十三届“挑战杯”大学生课外学术科技作品的公示\">信息技术学院推荐参加学校第二十三届“挑战杯”大学生课外学术科技作品的公示</a>\n",
      "</li>, <li class=\"text-left\"><span class=\"time right\">2024年11月05日</span>\n",
      "<a href=\"info/1064/3943.htm\" target=\"_blank\" title=\"校领导联系基层与我院新疆民族生代表共进午餐\">校领导联系基层与我院新疆民族生代表共进午餐</a>\n",
      "</li>, <li class=\"text-left\"><span class=\"time right\">2024年11月01日</span>\n",
      "<a href=\"info/1064/3933.htm\" target=\"_blank\" title=\"“技炫青春 能创未来”--我院承办2024年世界职业院校技能大赛总决赛争夺赛电子信息赛道二赛道（工业互联网集成应用小组）\">“技炫青春 能创未来”--我院承办2024年世界职业院校技能大赛总决赛争夺赛电子信息赛道二赛道（工业互联网集成应用小组）</a>\n",
      "</li>, <li class=\"text-left\"><span class=\"time right\">2024年10月31日</span>\n",
      "<a href=\"info/1064/3923.htm\" target=\"_blank\" title=\"信息技术学院2023-2024学年校内奖学金评审结果公示\">信息技术学院2023-2024学年校内奖学金评审结果公示</a>\n",
      "</li>, <li class=\"text-left\"><span class=\"time right\">2024年10月22日</span>\n",
      "<a href=\"info/1064/3913.htm\" target=\"_blank\" title=\"梦想启航 新程璀璨——信息技术学院新生见面会圆满举行！\">梦想启航 新程璀璨——信息技术学院新生见面会圆满举行！</a>\n",
      "</li>, <li class=\"text-left\"><span class=\"time right\">2024年10月10日</span>\n",
      "<a href=\"info/1064/3903.htm\" target=\"_blank\" title=\"信息技术学院2024秋季学期“思政第一课”顺利开展\">信息技术学院2024秋季学期“思政第一课”顺利开展</a>\n",
      "</li>, <li class=\"text-left\"><span class=\"time right\">2024年09月03日</span>\n",
      "<a href=\"info/1064/3893.htm\" target=\"_blank\" title=\"信息技术学院全体教职工集体学习党的二十届三中全会精神\">信息技术学院全体教职工集体学习党的二十届三中全会精神</a>\n",
      "</li>, <li class=\"text-left\"><span class=\"time right\">2024年07月27日</span>\n",
      "<a href=\"info/1064/3883.htm\" target=\"_blank\" title=\"2024年基于AIGC智能技术赋能中职教学培训班（国培）顺利开班\">2024年基于AIGC智能技术赋能中职教学培训班（国培）顺利开班</a>\n",
      "</li>, <li class=\"text-left\"><span class=\"time right\">2024年07月17日</span>\n",
      "<a href=\"info/1064/3873.htm\" target=\"_blank\" title=\"我院与中国老教授协会和清华大学教授对接座谈\">我院与中国老教授协会和清华大学教授对接座谈</a>\n",
      "</li>, <li class=\"text-left\"><span class=\"time right\">2024年07月05日</span>\n",
      "<a href=\"info/1064/3863.htm\" target=\"_blank\" title=\"广东轻工职业技术大学“百千万工程”数字科技人突击队携德庆县两镇共绘合作新蓝图\">广东轻工职业技术大学“百千万工程”数字科技人突击队携德庆县两镇共绘合作新蓝图</a>\n",
      "</li>]\n"
     ]
    }
   ],
   "source": [
    "#因为这个页面比较简单和干净，也可以直接在原始网页的基础上直接通过find_all查找li获得所有文章内容\n",
    "articles = bs.find_all('li', class_='text-left')\n",
    "print(articles)"
   ]
  },
  {
   "cell_type": "code",
   "execution_count": 54,
   "metadata": {},
   "outputs": [
    {
     "data": {
      "text/plain": [
       "<li class=\"text-left\"><span class=\"time right\">2024年11月11日</span>\n",
       "<a href=\"info/1064/3953.htm\" target=\"_blank\" title=\"信息技术学院推荐参加学校第二十三届“挑战杯”大学生课外学术科技作品的公示\">信息技术学院推荐参加学校第二十三届“挑战杯”大学生课外学术科技作品的公示</a>\n",
       "</li>"
      ]
     },
     "execution_count": 54,
     "metadata": {},
     "output_type": "execute_result"
    }
   ],
   "source": [
    "#第一篇文章\n",
    "articles[0]"
   ]
  },
  {
   "cell_type": "code",
   "execution_count": 55,
   "metadata": {},
   "outputs": [
    {
     "data": {
      "text/plain": [
       "'2024年11月11日\\n信息技术学院推荐参加学校第二十三届“挑战杯”大学生课外学术科技作品的公示\\n'"
      ]
     },
     "execution_count": 55,
     "metadata": {},
     "output_type": "execute_result"
    }
   ],
   "source": [
    "#第一篇文章的所有文本内容\n",
    "articles[0].text"
   ]
  },
  {
   "cell_type": "code",
   "execution_count": 56,
   "metadata": {},
   "outputs": [
    {
     "data": {
      "text/plain": [
       "'info/1064/3953.htm'"
      ]
     },
     "execution_count": 56,
     "metadata": {},
     "output_type": "execute_result"
    }
   ],
   "source": [
    "#第一篇文章的连接\n",
    "articles[0].a.get('href')"
   ]
  },
  {
   "cell_type": "code",
   "execution_count": 57,
   "metadata": {},
   "outputs": [
    {
     "name": "stdout",
     "output_type": "stream",
     "text": [
      "-----------------------\n",
      "info/1064/3953.htm\n",
      "信息技术学院推荐参加学校第二十三届“挑战杯”大学生课外学术科技作品的公示\n",
      "-----------------------\n",
      "info/1064/3943.htm\n",
      "校领导联系基层与我院新疆民族生代表共进午餐\n",
      "-----------------------\n",
      "info/1064/3933.htm\n",
      "“技炫青春 能创未来”--我院承办2024年世界职业院校技能大赛总决赛争夺赛电子信息赛道二赛道（工业互联网集成应用小组）\n",
      "-----------------------\n",
      "info/1064/3923.htm\n",
      "信息技术学院2023-2024学年校内奖学金评审结果公示\n",
      "-----------------------\n",
      "info/1064/3913.htm\n",
      "梦想启航 新程璀璨——信息技术学院新生见面会圆满举行！\n",
      "-----------------------\n",
      "info/1064/3903.htm\n",
      "信息技术学院2024秋季学期“思政第一课”顺利开展\n",
      "-----------------------\n",
      "info/1064/3893.htm\n",
      "信息技术学院全体教职工集体学习党的二十届三中全会精神\n",
      "-----------------------\n",
      "info/1064/3883.htm\n",
      "2024年基于AIGC智能技术赋能中职教学培训班（国培）顺利开班\n",
      "-----------------------\n",
      "info/1064/3873.htm\n",
      "我院与中国老教授协会和清华大学教授对接座谈\n",
      "-----------------------\n",
      "info/1064/3863.htm\n",
      "广东轻工职业技术大学“百千万工程”数字科技人突击队携德庆县两镇共绘合作新蓝图\n"
     ]
    }
   ],
   "source": [
    "#遍历所有文章，获得跳转url以及文章标题\n",
    "for li in articles:\n",
    "    print('-----------------------')\n",
    "    print(li.a.get('href')) #或者li.a['href']\n",
    "    print(li.a.text)"
   ]
  },
  {
   "cell_type": "code",
   "execution_count": null,
   "metadata": {},
   "outputs": [],
   "source": []
  }
 ],
 "metadata": {
  "kernelspec": {
   "display_name": "Python 3 (ipykernel)",
   "language": "python",
   "name": "python3"
  },
  "language_info": {
   "codemirror_mode": {
    "name": "ipython",
    "version": 3
   },
   "file_extension": ".py",
   "mimetype": "text/x-python",
   "name": "python",
   "nbconvert_exporter": "python",
   "pygments_lexer": "ipython3",
   "version": "3.12.4"
  }
 },
 "nbformat": 4,
 "nbformat_minor": 4
}

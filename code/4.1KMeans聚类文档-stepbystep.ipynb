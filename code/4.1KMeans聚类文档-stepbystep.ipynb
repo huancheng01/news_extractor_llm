{
 "cells": [
  {
   "cell_type": "code",
   "execution_count": 1,
   "id": "f701e08f-8ccf-406a-9f28-407dfa325579",
   "metadata": {},
   "outputs": [],
   "source": [
    "# !pip install jieba"
   ]
  },
  {
   "cell_type": "code",
   "execution_count": 2,
   "id": "b7d16f34",
   "metadata": {},
   "outputs": [],
   "source": [
    "from __future__ import print_function\n",
    "from sklearn.feature_extraction.text import TfidfVectorizer\n",
    "from sklearn.feature_extraction.text import CountVectorizer\n",
    "from sklearn import feature_extraction\n",
    "from os import listdir\n",
    "import matplotlib.pyplot as plt\n",
    "from sklearn.cluster import KMeans, MiniBatchKMeans\n",
    "import jieba\n",
    "import os\n",
    "import re\n",
    "import shutil\n",
    "import glob\n",
    "import numpy as np"
   ]
  },
  {
   "cell_type": "code",
   "execution_count": 3,
   "id": "37b7b3b9",
   "metadata": {},
   "outputs": [],
   "source": [
    "def make_clear_dir():\n",
    "    if not os.path.exists('./data/label/'):\n",
    "        os.mkdir('./data/label/')\n",
    "    for i in range(0, 50):\n",
    "        path = './data/label/label_'+str(i)+'/'\n",
    "        if not os.path.exists(path):\n",
    "            os.mkdir(path)\n",
    "        else:\n",
    "            files = os.listdir(path)\n",
    "            for file in files:\n",
    "                os.remove(path + file)"
   ]
  },
  {
   "cell_type": "code",
   "execution_count": 4,
   "id": "214470d1",
   "metadata": {},
   "outputs": [
    {
     "ename": "FileNotFoundError",
     "evalue": "[WinError 3] 系统找不到指定的路径。: './data/label/'",
     "output_type": "error",
     "traceback": [
      "\u001b[1;31m---------------------------------------------------------------------------\u001b[0m",
      "\u001b[1;31mFileNotFoundError\u001b[0m                         Traceback (most recent call last)",
      "Cell \u001b[1;32mIn[4], line 2\u001b[0m\n\u001b[0;32m      1\u001b[0m \u001b[38;5;66;03m#创建data/lable/lable_xx目录，如果存在，清除其中的数据\u001b[39;00m\n\u001b[1;32m----> 2\u001b[0m \u001b[43mmake_clear_dir\u001b[49m\u001b[43m(\u001b[49m\u001b[43m)\u001b[49m\n",
      "Cell \u001b[1;32mIn[3], line 3\u001b[0m, in \u001b[0;36mmake_clear_dir\u001b[1;34m()\u001b[0m\n\u001b[0;32m      1\u001b[0m \u001b[38;5;28;01mdef\u001b[39;00m \u001b[38;5;21mmake_clear_dir\u001b[39m():\n\u001b[0;32m      2\u001b[0m     \u001b[38;5;28;01mif\u001b[39;00m \u001b[38;5;129;01mnot\u001b[39;00m os\u001b[38;5;241m.\u001b[39mpath\u001b[38;5;241m.\u001b[39mexists(\u001b[38;5;124m'\u001b[39m\u001b[38;5;124m./data/label/\u001b[39m\u001b[38;5;124m'\u001b[39m):\n\u001b[1;32m----> 3\u001b[0m         \u001b[43mos\u001b[49m\u001b[38;5;241;43m.\u001b[39;49m\u001b[43mmkdir\u001b[49m\u001b[43m(\u001b[49m\u001b[38;5;124;43m'\u001b[39;49m\u001b[38;5;124;43m./data/label/\u001b[39;49m\u001b[38;5;124;43m'\u001b[39;49m\u001b[43m)\u001b[49m\n\u001b[0;32m      4\u001b[0m     \u001b[38;5;28;01mfor\u001b[39;00m i \u001b[38;5;129;01min\u001b[39;00m \u001b[38;5;28mrange\u001b[39m(\u001b[38;5;241m0\u001b[39m, \u001b[38;5;241m50\u001b[39m):\n\u001b[0;32m      5\u001b[0m         path \u001b[38;5;241m=\u001b[39m \u001b[38;5;124m'\u001b[39m\u001b[38;5;124m./data/label/label_\u001b[39m\u001b[38;5;124m'\u001b[39m\u001b[38;5;241m+\u001b[39m\u001b[38;5;28mstr\u001b[39m(i)\u001b[38;5;241m+\u001b[39m\u001b[38;5;124m'\u001b[39m\u001b[38;5;124m/\u001b[39m\u001b[38;5;124m'\u001b[39m\n",
      "\u001b[1;31mFileNotFoundError\u001b[0m: [WinError 3] 系统找不到指定的路径。: './data/label/'"
     ]
    }
   ],
   "source": [
    "#创建data/lable/lable_xx目录，如果存在，清除其中的数据\n",
    "make_clear_dir()"
   ]
  },
  {
   "cell_type": "markdown",
   "id": "bfc31e73-8c64-4129-b61b-643c4c21b33f",
   "metadata": {},
   "source": [
    "## 1.加载数据并使用tfidf将进行向量化"
   ]
  },
  {
   "cell_type": "code",
   "execution_count": null,
   "id": "c663ce76",
   "metadata": {},
   "outputs": [],
   "source": [
    "labels = []#用于存储所有文本标题\n",
    "\n",
    "def load_stopwords(stopwords_file):\n",
    "    fr = open('./stop.txt', encoding='UTF-8')#加载停用词表\n",
    "    texts = ['\\u3000','\\n', '']\n",
    "    for word in fr:\n",
    "        word = word.strip()\n",
    "        texts.append(word)\n",
    "    stop_words_set = set(texts)\n",
    "    return stop_words_set\n",
    "\n",
    "def loadDataset():\n",
    "    global labels\n",
    "    #导入文本数据集，建立语料库\n",
    "    stop_words_set = load_stopwords(\"./stop.txt\")\n",
    "    all_files = listdir('./data/filter_news_data/')\n",
    "    corpus = []\n",
    "\n",
    "    for i in range(0, len(all_files)):\n",
    "        if i % 200 == 0:\n",
    "            print(f'loadding {i}...')\n",
    "            \n",
    "        filename = all_files[i]\n",
    "        \n",
    "        filelabel = filename.split('.')[0]\n",
    "        #将文件名添加到标签列表\n",
    "        labels.append(filelabel)\n",
    "\n",
    "        #读取文件并进行切词\n",
    "        file_path = './data/filter_news_data/' + filename\n",
    "        doc = open(file_path, encoding='utf-8').read()\n",
    "        data = jieba.cut(doc)#对打开的文本进行分词\n",
    "\n",
    "        #使用停用词表对内容进行过滤\n",
    "        data_adj = \"\"\n",
    "        delete_word = []\n",
    "        for item in data:\n",
    "            if item not in stop_words_set:\n",
    "                data_adj = data_adj + item + ' '\n",
    "            else:\n",
    "                delete_word.append(item)\n",
    "\n",
    "        \n",
    "        corpus.append(data_adj)\n",
    "    return corpus"
   ]
  },
  {
   "cell_type": "code",
   "execution_count": null,
   "id": "46a9af24",
   "metadata": {},
   "outputs": [
    {
     "name": "stderr",
     "output_type": "stream",
     "text": [
      "Building prefix dict from the default dictionary ...\n"
     ]
    },
    {
     "name": "stdout",
     "output_type": "stream",
     "text": [
      "loadding 0...\n"
     ]
    },
    {
     "name": "stderr",
     "output_type": "stream",
     "text": [
      "Dumping model to file cache C:\\Users\\ADMINI~1\\AppData\\Local\\Temp\\jieba.cache\n",
      "Loading model cost 0.618 seconds.\n",
      "Prefix dict has been built successfully.\n"
     ]
    },
    {
     "name": "stdout",
     "output_type": "stream",
     "text": [
      "loadding 200...\n",
      "loadding 400...\n",
      "loadding 600...\n",
      "loadding 800...\n",
      "loadding 1000...\n",
      "loadding 1200...\n"
     ]
    }
   ],
   "source": [
    "dataset = loadDataset()"
   ]
  },
  {
   "cell_type": "code",
   "execution_count": null,
   "id": "d2724920",
   "metadata": {},
   "outputs": [
    {
     "data": {
      "text/plain": [
       "1276"
      ]
     },
     "execution_count": 22,
     "metadata": {},
     "output_type": "execute_result"
    }
   ],
   "source": [
    "len(dataset)"
   ]
  },
  {
   "cell_type": "code",
   "execution_count": null,
   "id": "85c40661",
   "metadata": {},
   "outputs": [
    {
     "data": {
      "text/plain": [
       "['北京 月 顾仲阳 农业 农村部 国家 乡村 振兴 局 开展 国家 乡村 振兴 示范县 创建 申报 评审 工作 完成 河南省 兰考县 四川省 眉山市 东坡区 单位 入选 年 国家 乡村 振兴 示范县 创建 单位 贯彻落实 中共中央国务院 做好 年 全面 推进 乡村 振兴 重点 工作 意见 部署 农业 农村部 国家 乡村 振兴 局 开展 国家 乡村 振兴 示范县 创建 申报 评审 工作 县级 申请 市级 遴选 省级 审核 推荐 专家 评审 社会 公示 此次 创建 单位名单 开展 乡村 振兴 示范 创建 今年 中央 一号 文件 作出 部署 全面 推进 乡村 振兴 重要 抓手 ',\n",
       " '北京 月 陆娅楠 国家统计局 日 发布 党 十八 以来 经济社会 发展 成就 系列 报告 显示 年 我国 单位 国内 生产总值 能耗 比年 累计 降低 年均 下降 相当于 节约 少用 能源 约 亿吨 标准煤 规模 工业 单位 增加值 能耗 累计 降低 年均 下降 工业 节能 效果 明显 报告 显示 我国 能源 生产 结构 加速 转变 清洁 能源 占 持续 提升 年 非 化石 能源 发电 装机 首次 超过 煤电 装机容量 达到 亿千瓦 占 发电 总 装机容量 比重 水电 风电 太阳能 发电 装机 连续 多年 稳居 世界 首位 天然气 水电 核电 新能源 发电 清洁 能源 能源 生产 结构 中 占 持续上升 年 天然气 占 一次能源 生产 总量 比重 达 一次 电力 能源 比重 上升 能源 消费 清洁 低碳 加快 推进 年 煤炭 占 能源 消费 总量 比重 年 降低 石油 占 上升 天然气 占 上升 一次 电力 能源 占 上升 ']"
      ]
     },
     "execution_count": 24,
     "metadata": {},
     "output_type": "execute_result"
    }
   ],
   "source": [
    "#前几篇文章\n",
    "dataset[:2]"
   ]
  },
  {
   "cell_type": "raw",
   "id": "14b516af",
   "metadata": {},
   "source": [
    "#使用tf-idf对文章进行向量化\n",
    "\n",
    "#关于tf-idf的说明：https://zhuanlan.zhihu.com/p/97273457\n",
    "#关于TfidfVectorizer：https://zhuanlan.zhihu.com/p/67883024\n",
    "#参数说明：\n",
    "'''\n",
    "\n",
    "TfidfVectorizer\n",
    "max_df:\n",
    "    忽略高于此文档频率的单词\n",
    "\n",
    "min_df:\n",
    "    忽略低于此文档频率的单词\n",
    "\n",
    "max_features:\n",
    "    要保留的最大特征数量（词汇表大小）\n",
    "\n",
    "use_idf：\n",
    "    是否使用逆文档频率重新缩放\n",
    "'''"
   ]
  },
  {
   "cell_type": "code",
   "execution_count": null,
   "id": "45b0c075",
   "metadata": {},
   "outputs": [],
   "source": [
    "def transform(dataset, n_features = 1000):\n",
    "    #将每篇文章转化成n_features的向量，向量的每个分量代表一个词，以及这个词对应的权重（即tf-idf）;\n",
    "    vectorizer = TfidfVectorizer(max_df=0.5, max_features=n_features, min_df=2, use_idf=True)\n",
    "    X = vectorizer.fit_transform(dataset)\n",
    "\n",
    "    return X, vectorizer"
   ]
  },
  {
   "cell_type": "code",
   "execution_count": null,
   "id": "46f63628",
   "metadata": {},
   "outputs": [],
   "source": [
    "X, vectorizer = transform(dataset, n_features=2000)"
   ]
  },
  {
   "cell_type": "code",
   "execution_count": null,
   "id": "40aff7ce",
   "metadata": {},
   "outputs": [
    {
     "data": {
      "text/plain": [
       "(1276, 2000)"
      ]
     },
     "execution_count": 32,
     "metadata": {},
     "output_type": "execute_result"
    }
   ],
   "source": [
    "X.shape"
   ]
  },
  {
   "cell_type": "code",
   "execution_count": null,
   "id": "12b79d8f",
   "metadata": {},
   "outputs": [
    {
     "data": {
      "text/plain": [
       "scipy.sparse._csr.csr_matrix"
      ]
     },
     "execution_count": 34,
     "metadata": {},
     "output_type": "execute_result"
    }
   ],
   "source": [
    "type(X[0])"
   ]
  },
  {
   "cell_type": "code",
   "execution_count": null,
   "id": "1d9d0cdf",
   "metadata": {},
   "outputs": [
    {
     "data": {
      "text/plain": [
       "array([[0., 0., 0., ..., 0., 0., 0.]])"
      ]
     },
     "execution_count": 36,
     "metadata": {},
     "output_type": "execute_result"
    }
   ],
   "source": [
    "X[0].toarray()"
   ]
  },
  {
   "cell_type": "code",
   "execution_count": null,
   "id": "d9cdef98",
   "metadata": {},
   "outputs": [
    {
     "name": "stdout",
     "output_type": "stream",
     "text": [
      "一个个 一些 一件 一份 一位 一体 一体化 一号 一国两制 一场 一块 一处 一天 一定 一家 一带 一幅 一年 一座 一张 一批 一是 一条 一次 一步 一流 一百年 一系列 一线 一致 一路 一边 一道 一项 万个 万亩 万人 万人次 万亿元 万件 万元 万吨 万户 三个 三季度 三年 上升 上半年 上合 上同 上市 上海 上级 上线 上要 下功夫 下去 下降 不到 不可 不可逆转 不忘 不想 不懈 不敢 不断丰富 不断完善 不负 不足 与时俱进 专业 专业化 专家 专精 专门 专项 专题 世界 世界观 世纪 世锦赛 业务 业态 东北 东湖 东盟 两个 两党 两国 两国人民 两国关系 两岸 两年 严峻 严格 严重 个体 中共 中共中央 中共中央国务院 中共中央政治局 中医药 中华 中华人民共和国 中华儿女 中华文化 中华文明 中华民族 中国共产党 中国化 中国史 中国式 中国队 中央 中央军委 中央委员会 中央政治局 中央政治局常委 中央纪委 中央纪律检查委员会 中小企业 中心 中方 中非 丰富 为主 主义 主任 主体 主动 主席 主张 主持 主管部门 主要 举世瞩目 举办 举措 举行 义务教育 之中 之变 之后 之路 之问 之间 之际 习近平 乡亲们 乡村 乡镇 书写 书记 了解 争取 事业 事关 事务 事项 二十 二十一 二十大 二是 云南 云南省 互利 互动 互联网 互鉴 五位一体 五年 亚洲 亚洲象 交出 交往 交易 交流 交通 产业 产业园 产业结构 产业链 产值 产品 产生 产量 享受 享有 人与自然 人们 人口 人均 人士 人居 人工智能 人才 人才培养 人数 人文 人权 人民军队 人民币 人民政府 人生 人类 人类文明 人选 亿万人民 亿元 亿多 亿美元 今后 今天 今年 今年以来 介绍 从严治党 从事 付出 代表 代表团 令人 以下 以党 以前 以来 价值 价值观 价格 任务 企业 企业家 休闲 众多 优先 优先发展 优势 优化 优秀 优良 优质 伙伴 伙伴关系 会议 伟业 伟力 伟大 伟大事业 伟大工程 伟大成就 伟大旗帜 传承 传播 传统 传递 位于 位居 位置 低碳 住房 体制 体制改革 体现 体系 体育 体验 余额 作出 作品 作用 作者 作风 使命 供应链 供给 依托 依法 依法治国 依然 依靠 依靠人民 便利 便捷 促进 保护 保持 保证 保障 信任 信心 信念 信息 信息化 信息技术 信用 修复 修改 修正案 修订 借鉴 倡导 倡议 假期 做到 做好 健全 健康 健身 充分体现 充分发挥 充分证明 充实 充满 先后 先行 先进 先锋 光伏 光明 光荣 光辉 免费 党中央 党内 党史 党员 党员干部 党和人民 党和国家 党委 党委书记 党建 党总支 党支部 党的建设 党的纪律 党的领导 党章 党组 党组书记 党组织 入选 全人类 全会 全体 全体会议 全党 全党全军 全党全国 全区 全国 全国人大 全国人大常委会 全国代表大会 全国政协 全局 全局性 全市 全新 全方位 全民 全球 全球化 全省 全程 全过程 全部 全面 八项 公共 公共服务 公司 公园 公平 公平正义 公开 公正 公益 公路 公里 共产党 共享 共同 共同体 共同富裕 共建 共有 共生 共识 共赢 关心 关注 关爱 关系 关键 关键时刻 具体 具备 具有 典型 养殖 养老 内容 内涵 内部 再次 再生能源 写入 军事 军队 农业 农产品 农户 农村 农村公路 农民 冠军 冬奥会 冲击 决定 决定性 决心 决策 决议 准备 准确 减少 减负 减贫 凝心 凝聚 凝聚力 几年 凸显 出发 出口 出台 出席 出新 出版 出行 分享 分别 分析 分类 分行 分配 分钟 切实 创业 创作 创建 创新 创新能力 创造 创造性 初心 初步 利用 利益 制作 制定 制度 制造 制造业 前列 前所未有 前提 前景 前沿 前行 前进 前进方向 前途 力争 力度 力量 办事 办公室 办好 办成 办法 办理 功能 加入 加大 加工 加强 加快 加油 加速 务实 务必 动力 动态 动能 助力 努力 劳动 勇于 勇毅 勇气 包容 包括 化解 北京 北京市 北斗 区域 医保 医疗 医疗卫生 医院 十三届 十九 十八 十分 十四五 十年 升级 协会 协作 协助 协同 协商 协调 单位 博会 博物馆 博览会 卫星 卫生 印发 印象 危机 危险 历史 历史性 历史进程 历程 历经 压力 原则 原创性 原因 去年 县域 县级 参观 友好 友谊 双循环 双方 反复 反对 反映 反腐败 发出 发力 发射 发展中国家 发展史 发展壮大 发布 发扬 发挥 发放 发电 发表 发言人 取得 受到 变为 变化 变成 变革 古籍 召开 可靠 司法 各国 各地 各方 各族人民 各类 各级 各项 合作 合作社 合力 合理 同事 同志 同日 同步 同比 名单 名片 向前 向往 听取 启动 吸引 呈现 告诉 员工 周围 周边 命运 和平 和谐 品格 品牌 品种 品质 哲学 商业 商品 善于 嘱托 四个 四川 四川省 回答 因地制宜 因素 团结 团结奋斗 团队 园区 困难 围绕 国内 国内外 国务院 国务院办公厅 国家机关 国家级 国庆 国情 国有 国有企业 国民经济 国防 国际 国际形势 土地 土楼 在于 在内 地上 地位 地方 地球 场景 均衡 坚信 坚决 坚守 坚定 坚定不移 坚定信心 坚实 坚强 坚强有力 坚持 坚持不懈 垃圾 埋头苦干 城乡 城区 城市 城镇 城镇化 培养 培育 培训 基因 基地 基层 基层干部 基本原理 基础 基础性 基础设施 基调 基金 塑造 境界 增加 增加值 增强 增收 增进 增速 增长 壮大 声音 处于 处分 处理 复兴 复杂 复苏 外交 外商投资 外国 外贸 多个 多元 多元化 多名 多家 多层次 多年 多样性 多种 多边 多项 大事记 大会 大力 大力发展 大势 大变局 大国 大地 大型 大学 大局 大幅 大政方针 大湾 大规模 大运河 大量 天下 天津 太空 夯实 夺取 奇迹 奋力 奋勇前进 奋斗 奋斗目标 奋进 奠定 始终 始终保持 委员 委员会 媒体 存在 学习 学校 学生 学院 孩子 宇宙 守护 守正 安全 安全感 安排 完全 完善 完成 完整 宏伟蓝图 宗旨 官僚主义 官兵 定位 定力 宜居 宝贵 实事求是 实体 实力 实干 实施 实时 实行 实践 实际 实际行动 实验 实验室 实验舱 审查 审议 客户 宣传 宣传部 宣布 宣示 宣言 宣讲 宪法 家乡 家园 家庭 家门口 密切 对党 对外 对外开放 对接 对话 对象 寻常 导向 尊重 小区 小康 小康社会 小微 小时 小组 尤其 就业 就要 局面 居家 居民 展开 展现 展现出 展示 展览 履职 履行 山东 山东省 山水 山西省 岗位 岛国 峰会 崇高 崭新 巡视 工业 工业化 工人 工作 工作人员 工作者 工匠 工厂 工商户 工程 工艺 左右 巨大 巨轮 巩固 差距 已有 巴基斯坦 巴西 市场 市场主体 市场化 市委书记 市民 布局 希望 带动 带头 带来 带领 帮助 帮扶 常态 干部 干部群众 平凡 平台 平均 平安 平等 平衡 年代 年前 年均 年底 年度 年轻 年轻人 并举 幸福 幸福感 广东 广东省 广场 广大 广大党员 广大干部 广州 广泛 广西 广西壮族自治区 广阔 庄严 庆祝 应对 应急 应用 底气 底线 底色 座谈会 延伸 延安 建党 建军 建成 建立 建立健全 建筑 建行 建议 建设者 建造 开创 开发 开启 开展 开工 开幕 开放 开设 开辟 开通 引入 引导 引进 引领 弘扬 强军 强劲 强化 强国 强大 强烈 强调 当代 当前 当地 当家作主 当年 当选 形势 形式 形式主义 形态 形成 形象 彰显 影响 影响力 征求意见 征程 得到 得益于 循环 德国 心中 必然 必由之路 志愿 志愿者 忠诚 快递 快速 态势 态度 思想 思维 思考 思路 急难 总书记 总体 总体布局 总理 总结 总统 总量 总额 恢复 患者 情况 情怀 惠及 惠民 意义 意志 意愿 意见 意识 意识形态 感到 感受 愿同 成为 成功 成员 成就 成效 成本 成果 成熟 成立 成绩 成都 成长 我国 战书 战斗 战略 战略性 战略部署 战胜 所作 所在 所有 手中 手机 手段 扎实 扎根 打开 打赢 打通 打造 托育 执政 执法 执行力 扩大 扶持 扶贫 批准 找到 承担 承诺 技术 技术创新 技能 把握 抓住 抓好 抓手 投入 投资 抗击 抗疫 报告 担任 担当 拓宽 拓展 拥护 拥有 持之以恒 持续 指出 指导 指引 指挥 指数 指明 指标 挑战 挖掘 振兴 振奋 据介绍 掌声 掌握 掌舵 排放 探索 接续 控制 推出 推向 推广 推荐 措施 描绘 提出 提升 提质 提高 援助 搬迁 搭建 携手 摆在 擘画 支持 支撑 支配 收入 收获 改变 改善 改编 改进 改造 改革 改革开放 攻克 攻关 攻坚 攻坚克难 攻坚战 放在 政党 政务 政府 政治 政策 政策措施 故事 效应 效果 效率 效益 效能 救助 救援 教学 教师 教授 教育 敢于斗争 数字 数字化 数据 数量 整个 整体 整体性 整合 整改 整治 文件 文化 文化遗产 文旅 文明 文物 文献 文章 文艺 斗争 新一代 新一届 新兴 新兴产业 新冠 新区 新华社 新台阶 新型 新增 新理念 新疆 新篇章 新能源 方便 方向 方式 方案 方法 方法论 方略 方针 方面 施工 旅游 旗帜 无比 日子 日常 日日 日益增长 时代 时代化 时刻 时期 时说 昂扬 明显 明确 显示 显著 普惠 普通 普遍 景区 智慧 智能 智能化 更大 更好 更是 曾经 最后 最大 最好 最新 最高 月份 月底 有利于 有力 有助于 有序 有所 有效 有机 有着 有限公司 朋友 服务 服务业 服务中心 服务体系 期待 期盼 期间 未有 未来 本国 本届 本报记者 本次 本质 本领 机会 机关 机制 机器人 机场 机构 机遇 权利 权威 权益 李克强 材料 村庄 村民 村里 条件 条例 来到 来说 杭州 松江 构建 枢纽 查处 柬埔寨 标准 标准化 标志 标志性 树立 核心 核心技术 根基 根本 格局 框架 案件 案例 桥梁 梦想 检查 检查组 检测 检验 森林 模型 模式 欢迎 欧洲 正式 正是 正确 正确方向 此前 此次 步伐 武汉 每个 每天 比例 比赛 比较 比重 毕业 毕业生 毛泽东 毫不动摇 民主 民众 民宿 民心 民族 民生 气候变化 气象 氛围 水体 水利 水平 水稻 水质 水资源 永远 汇聚 江山 江苏 江苏省 江西 江西省 污染 汽车 沈阳 沟通 河北 河北省 河南 河南省 河湖 油气 治党 治国 治理 沿线 法国 法律 法治 法规 注入 注重 活力 活动 流动 流域 流程 浙江 浙江省 海上 海南 海外 海洋 消费 消费者 消除 涉及 涵盖 深入 深刻 深化 深化改革 深厚 深圳 深层次 深度 深海 深远 清单 清洁 清醒 渔民 渠道 温暖 港口 港澳 游客 湖北 湖北省 湖南 湖南省 湿地 满足 演出 潜力 潮流 澳门 激励 激发 热情 热烈 热烈祝贺 焕发 煤炭 爱国 爱国主义 片区 牢固 牢记 物业 物流 物质 物质文明 牵头 特别 特征 特新 特殊 特点 特色 特色产业 独特 独立 环保 环境 环境保护 环节 现代 现代化 现场 现实 理事会 理念 理想 理想信念 理政 理解 理论 生产 生产力 生产总值 生动 生命 生态 生态环境 生态系统 生机 生活 生物 用于 申请 电力 电商 电子 电网 画卷 畅通 留下 疫情 百分点 百姓 百年 监委 监察 监测 监督 监督管理 监管 目标 目的 直接 直播 相互 相信 相结合 省份 省级 看到 真实 真正 真理 着力 督促 矛盾 知识 知识产权 短板 码头 研制 研发 研究 研究员 研究所 研究院 砥砺 破解 确保 确定 确立 碳达峰 磅礴 示范 示范区 社会 社会保障 社区 祖国 祝贺 福州 福建 福建省 福祉 离不开 秉持 种植 科创 科学 科学家 科技 科研 秘书长 秩序 积极 积极参与 积极性 积累 程序 程度 稳定 稳步 空间 空间站 突出 突破 窗口 立场 立足 竞争 竞争力 章程 符合 第一 第一个 第一次 第二 第二个 第二十次 答卷 答案 签署 简称 管党 管控 管理 篇章 粤港澳 粮食 粮食安全 精准 精品 精彩 精心 精神 精神力量 精神文明 系列 系统 系统性 素质 紧密 累计 繁荣 红色 纪律 纪念馆 纪检监察 纲领 纳入 纷纷 线上 组建 组成 组织 经历 经受 经济 经济社会 经营 经贸 经验 结合 结束 结构 结构性 给予 统一 统一战线 统筹 继续 维护 综合 绿化 绿水青山 绿色 网格 网站 网络 美丽 美国 美好 美好生活 群众 群体 老人 老师 老年人 老旧 老百姓 考古 考察 考核 考验 职业技能 职工 职责 联动 联合 联合国 联盟 联系 聚焦 聚集 股份 肺炎 背后 背景 胜利 胸怀 能力 能够 能源 能源安全 能量 脱贫 腐败 自主 自信 自强 自我 自治 自然 自由贸易 自立自强 自觉 自豪 至上 至今 致力于 致富 致远 舞台 航天 航天员 航空 良好 艰巨 艰苦奋斗 艺术 节点 节约 花生 范围 草原 草案 荣誉 药品 获得 获悉 菌草 营商 营造 落地 落实 落户 董事长 蓝图 蓬勃发展 融入 融合 融资 行业 行为 行动 行动指南 行政 行道树 衔接 街道 补贴 表明 表现 表达 衷心 袖子 装备 西方 西藏 西部 要素 覆盖 覆盖率 见证 观众 观察 观念 观测 观点 规划 规则 规定 规律 规模 规矩 规范 视野 解决 解决问题 计划 计算 认定 认真 认真学习 认识 讨论 训练 议程 记录 讲话 讲述 许多 论坛 论述 设备 设施 设立 设置 设计 证明 评价 评估 诉求 试点 试验 试验区 话语 读者 课堂 课程 课题 调度 调整 调查 调研 谈话 谋划 谱写 负责 负责人 负责同志 贡献 贡献力量 责任 货物 质量 贫困 贫困人口 贯彻 贯彻落实 贯穿 贯通 贵州 贷款 贸易 资产 资本 资源 资金 赋予 赋能 赛事 赢得 走上 走出 走向 走廊 走过 走进 赶考 起点 超过 越南 越来越 跃升 距离 跟党走 跨境 跨越 路上 路径 践行 踔厉奋发 身边 车间 转化 转变 转型 载人 载体 辉煌 达到 迅速 过去 过程 迈上 迈出 迈向 迈进 迎接 迎来 运动 运河 运用 运营 运行 运输 还要 这一 这是 这次 这种 进入 进军 进出口 进口 进展 进步 进程 违反 违法 连续 追求 适应 选举 选拔 选择 逐步 逐渐 通知 通道 速度 造福 逻辑 遇到 遏制 道路 遗产 遵循 邀请 邮储 部分 部署 部长 部门 配套 配置 采取 采用 采访 采购 释放 里程碑 重大 重大意义 重大成就 重庆 重点 重要 重要讲话 重视 金山 金融 金融服务 金额 针对 针对性 铁路 银山 银行 铸魂 销售 锻造 长三角 长城 长征 长期 长江 长远 闭幕 阅读 阐述 阐释 队伍 队员 防控 防止 防治 防范 阶段 阿富汗 陆续 降低 院士 院长 难题 集中 集中统一 集体 集体经济 集团 集群 集聚 需求 需要 青少年 青年 青春 非凡 非洲 面临 面向 面对 面积 面貌 革命 韧性 音乐 项目 顺利 顺应 顽强 预期 预警 预计 领会 领先 领域 领导 领导人 领导核心 领导集体 领悟 领航 领袖 风电 风险 飞跃 食品 食物 饭碗 首个 首批 首次 香港 马克思主义 驱动 高举 高品质 高地 高度 高度一致 高度重视 高技能 高效 高新区 高新技术 高标准 高校 高水平 高端 高质量 高速 高速公路 高铁 魅力 鲜明 黄河 鼓励 鼓舞\n"
     ]
    }
   ],
   "source": [
    "#获得词汇表\n",
    "fea_names = vectorizer.get_feature_names_out()\n",
    "str_fea = \" \".join(fea_names)\n",
    "print(str_fea)"
   ]
  },
  {
   "cell_type": "markdown",
   "id": "deaeacd8-e0c3-4c0f-98a2-09570788d3a1",
   "metadata": {},
   "source": [
    "## 2.使用KMeans算法对文章进行聚类"
   ]
  },
  {
   "cell_type": "raw",
   "id": "cab97558",
   "metadata": {},
   "source": [
    "\n",
    "\n",
    "\n",
    "#聚类后的评分\n",
    "#1，轮廓系数 silhouette_score(X, km.labels_)\n",
    "#2，样本到簇内中心的距离的平方和，称之为模型的惯性 -km.score(X)，或者km.inertia_获得\n"
   ]
  },
  {
   "cell_type": "code",
   "execution_count": null,
   "id": "aeac601d",
   "metadata": {},
   "outputs": [],
   "source": [
    "from sklearn.metrics import silhouette_score\n",
    "def train(X, vectorizer, true_k=10, minibatch=False, showLable=False, copyFile = False, printInfo = False, targetScore = 100):\n",
    "    # 使用采样数据还是原始数据训练k-means，\n",
    "    if minibatch:\n",
    "        #Mini-Batch K-Means 是 K-Means 的一种变种，它使用随机小批量的数据来加速训练过程，适用于大型数据集。\n",
    "        km = MiniBatchKMeans(n_clusters=true_k, init='k-means++', n_init=10,\n",
    "                             init_size=1000, batch_size=1000, verbose=False)\n",
    "    else:\n",
    "        km = KMeans(n_clusters=true_k, init='k-means++', max_iter=300, n_init=10,\n",
    "                    verbose=False)\n",
    "    km.fit(X)\n",
    "    y = km.fit_predict(X)\n",
    "    \n",
    "    #（距离平方和）除以数据点的数量，以获得一个用于评估模型质量的分数。\n",
    "    score = -km.score(X) / X.shape[0]\n",
    "    \n",
    "    #设定一个目标分数，如果达到目标分数后，将对应文件的内容拷贝到相应的目录\n",
    "    if score < targetScore and copyFile:   \n",
    "        for i in range(true_k):\n",
    "            label_i=[]\n",
    "            fileNames = glob.glob('./data/label/label_' + str(i)+'/'+r'/*')\n",
    "\n",
    "            #先清除原分类文件夹下的文件\n",
    "            for filename in fileNames:\n",
    "                os.remove(filename)\n",
    "\n",
    "            #把将对应类别的文本复制入对应分类文件夹\n",
    "            for j in range(0,len(y)):\n",
    "                if y[j] == i:\n",
    "                    label_i.append(labels[j])\n",
    "                    title = labels[j]\n",
    "                    shutil.copy('./data/news_data/' + title + '.txt','./data/label/label_' + str(i) + '/' + title + '.txt')                \n",
    "\n",
    "    #展示分类后每一类的文本中心词\n",
    "    if showLable:\n",
    "        #print(\"K个质心的位置:\")\n",
    "        #print(km.cluster_centers_)\n",
    "        #对质心的轴进行排序，得到质心的中心词id\n",
    "        order_centroids = km.cluster_centers_.argsort()[:, ::-1]\n",
    "        #print(order_centroids[2, ])\n",
    "        terms = vectorizer.get_feature_names_out()\n",
    "        for i in range(true_k):\n",
    "            print(f\"Cluster {i}:\", end='  ')#输出类名\n",
    "            for ind in order_centroids[i, :10]:\n",
    "                print(' %s' % terms[ind], end='')#输出该类文本的前10个中心词\n",
    "            print()\n",
    "    \n",
    "    if printInfo:\n",
    "        #输出每一类文本的数量\n",
    "        result = list(km.predict(X))\n",
    "        print('K = ', true_k, 'Cluster distribution:')\n",
    "        print(dict([(i, result.count(i)) for i in result]))#输出分类组成，即每一类的文本个数\n",
    "    \n",
    "    '''返回当前分类下的评分\n",
    "    轮廓系数 silhouette_score(X, km.labels_)\n",
    "    silhouette_score 计算的是每个数据点的轮廓系数，然后对所有数据点的轮廓系数求平均。\n",
    "    轮廓系数的计算如下：\n",
    "    对于每个数据点，计算其与同簇内其他点的平均距离，记作 a。\n",
    "    对于每个数据点，计算其与最近不同簇内点的平均距离，记作 b。\n",
    "    轮廓系数 s 被定义为 (b - a) / max(a, b)。\n",
    "    轮廓系数的取值范围在 -1 到 1 之间：\n",
    "    负值表示数据点更可能分配到错误的簇。\n",
    "    0 表示数据点在簇的边界上。\n",
    "    正值表示数据点与同簇内的其他点相似，与其他簇内的点不相似。\n",
    "    '''\n",
    "    silh_score = silhouette_score(X, km.labels_)\n",
    "    print(f'K= {true_k} score: {score:.4f} silhouette_score: {silh_score:.4f}')\n",
    "\n",
    "    return score\n"
   ]
  },
  {
   "cell_type": "code",
   "execution_count": null,
   "id": "9455b8bc",
   "metadata": {},
   "outputs": [
    {
     "name": "stdout",
     "output_type": "stream",
     "text": [
      "Cluster 0:   健康 监测 服务 中医药 设备 医疗 卫生 养老 管理 公司\n",
      "Cluster 1:   香港 一国两制 澳门 港澳 全国政协 报告 中央 二十大 选拔 融入\n",
      "Cluster 2:   法治 二十大 党章 习近平 全面 民主 报告 修改 自我 中国共产党\n",
      "Cluster 3:   外交 人类 世界 和平 国际 共同体 全球 命运 各国 构建\n",
      "Cluster 4:   乡村 振兴 农村 村民 农业 农民 产业 脱贫 村里 乡亲们\n",
      "Cluster 5:   现代化 中国式 全面 伟大 中华民族 坚持 习近平 复兴 总书记 道路\n",
      "Cluster 6:   经济 我国 格局 国内 高质量 构建 国际 开放 加快 对外开放\n",
      "Cluster 7:   智能 数字 汽车 数据 新能源 应用 数字化 技术 有限公司 助力\n",
      "Cluster 8:   新华社 北京 习近平 主席 同志 中共中央 中国共产党 发言人 第二十次 战书\n",
      "Cluster 9:   中华人民共和国 会议 审议 草案 批准 协助 司法 决定 全国人大常委会 签署\n",
      "Cluster 10:   设计 统筹 联动 单位 合作 媒体 公司 技术 坚守 坚定\n",
      "Cluster 11:   生态 保护 文明 绿色 湿地 流域 治理 生态环境 自然 修复\n",
      "Cluster 12:   中国队 比赛 世锦赛 冠军 成都 战胜 成绩 获得 训练 本届\n",
      "Cluster 13:   创新 科技 人才 教育 企业 技术 强国 培养 技能 产业\n",
      "Cluster 14:   企业 增长 同比 万亿元 亿元 服务 百分点 出口 经济 三季度\n",
      "Cluster 15:   总理 李克强 国务院 新华社 发言人 北京 宣布 邀请 会议 理事会\n",
      "Cluster 16:   创作 艺术 作品 文化 演出 传统 土楼 观众 时代 古籍\n",
      "Cluster 17:   学生 青年 团队 城市 技术 研究 工作 工程 活动 孩子\n",
      "Cluster 18:   疫情 防控 动态 精准 传播 科学 新冠 我国 假期 措施\n",
      "Cluster 19:   强军 贯彻 中央军委 建军 官兵 军队 学习 主席 思想 二十大\n",
      "Cluster 20:   全面 时代 习近平 伟大 二十大 特色 政治 坚持 思想 现代化\n",
      "Cluster 21:   委员 中央纪律检查委员会 选举 大会 代表 委员会 中央委员会 中国共产党 书记 会议\n",
      "Cluster 22:   时代 伟大 奋斗 中华民族 二十大 习近平 全面 历史 复兴 十年\n",
      "Cluster 23:   就业 毕业生 创业 岗位 帮扶 困难 高校 培训 政策 服务\n",
      "Cluster 24:   文化 红色 文明 传统 历史 文物 优秀 精神 故事 中华\n",
      "Cluster 25:   项目 风电 海洋 广东 投资 海上 亿元 港口 一号 能源\n",
      "Cluster 26:   产业 企业 亿元 城市 集群 制造业 经济 工业 项目 创新\n",
      "Cluster 27:   航天 实验舱 空间站 发射 航天员 太空 长征 载人 实验 选拔\n",
      "Cluster 28:   农业 企业 种植 集团 公司 生产 铁路 品牌 技术 农产品\n",
      "Cluster 29:   合作 两国 中方 中国共产党 双方 关系 世界 越南 习近平 和平\n",
      "Cluster 30:   社区 养老 服务 小区 居民 居家 老年人 物业 改造 网格\n",
      "Cluster 31:   纪律 严重 违法 中央纪委 违反 规定 处分 审查 监委 中华人民共和国\n",
      "Cluster 32:   能源 光伏 发电 我国 绿色 油气 清洁 开发 风电 新能源\n",
      "Cluster 33:   主席 总统 当选 总书记 中共 中国共产党 总理 中共中央 取得 政府\n",
      "Cluster 34:   马克思主义 理论 时代 思想 实践 特色 习近平 坚持 中国化 时代化\n",
      "Cluster 35:   假期 体育 国庆 沈阳 运动 健身 游客 赛事 项目 活动\n",
      "Cluster 36:   群众 基层 工作 民生 干部 保障 总书记 代表 坚持 民主\n",
      "Cluster 37:   快递 消费 下降 高铁 新区 绿色 行业 我国 上升 铁路\n",
      "Cluster 38:   金融 银行 贷款 服务 金融服务 分行 绿色 邮储 企业 建行\n",
      "Cluster 39:   全球 倡议 国际 人权 世界 美国 经济 合作 联合国 各国\n",
      "K =  40 Cluster distribution:\n",
      "{4: 42, 32: 21, 22: 71, 12: 26, 14: 61, 37: 7, 31: 7, 28: 69, 7: 31, 17: 138, 36: 54, 2: 27, 20: 85, 39: 42, 3: 21, 29: 38, 25: 24, 18: 8, 30: 24, 23: 16, 24: 40, 16: 28, 27: 14, 6: 23, 11: 51, 19: 9, 1: 9, 34: 18, 38: 20, 5: 22, 0: 12, 26: 41, 8: 25, 21: 27, 13: 44, 35: 22, 33: 19, 9: 13, 15: 9, 10: 18}\n",
      "K= 40 score: 0.7542 silhouette_score: 0.0486\n"
     ]
    }
   ],
   "source": [
    "#尝试聚类成40个类\n",
    "score = train(X, vectorizer, true_k=40, showLable=True, printInfo=True, copyFile=False)"
   ]
  },
  {
   "cell_type": "code",
   "execution_count": null,
   "id": "ef144f69",
   "metadata": {},
   "outputs": [
    {
     "data": {
      "text/plain": [
       "0.7541906421662556"
      ]
     },
     "execution_count": 46,
     "metadata": {},
     "output_type": "execute_result"
    }
   ],
   "source": [
    "score"
   ]
  },
  {
   "cell_type": "code",
   "execution_count": null,
   "id": "f74c7240",
   "metadata": {},
   "outputs": [],
   "source": [
    "#采用手肘法寻找最优的K值\n",
    "#https://zhuanlan.zhihu.com/p/78798251?utm_source=qq\n",
    "\n",
    "'''\n",
    "肘部法则（Elbow Method）：\n",
    "通过计算不同k值下的误差平方和（SSE，Sum of Squared Errors）来评估聚类的效果。\n",
    "绘制SSE与k值的关系图，通常随着k值的增加，SSE会逐渐降低，但降低的幅度会逐渐减小。\n",
    "寻找SSE下降速度开始变慢的拐点，这个点就是最佳的k值，因为在此之后增加更多的簇对改善聚类效果的提升不再显著。\n",
    "\n",
    "轮廓系数法（Silhouette Coefficient Method）：\n",
    "轮廓系数衡量了聚类结果的紧密程度和分离程度。\n",
    "对于每个数据点，计算其轮廓系数，该系数是数据点与同一簇内其他数据点的平均距离与数据点与最近簇的数据点的平均距离之差除以两者中的最大值。\n",
    "轮廓系数的值介于-1和1之间，值越大表示聚类效果越好。\n",
    "计算不同k值下的平均轮廓系数，选择平均轮廓系数最大的k值作为最优解。\n",
    "'''\n",
    "\n",
    "def get_best_K():\n",
    "    #通过测试寻找最优的K\n",
    "    global labels\n",
    "    labels = []\n",
    "    dataset = loadDataset()\n",
    "    print(f\"{len(dataset)} documents\" )\n",
    "    X, vectorizer = transform(dataset, n_features=1000)\n",
    "    \n",
    "    true_ks = []\n",
    "    scores = []\n",
    "    #依次对不同k取值进行测试得到其轮廓系数，保存每次结果并以曲线图呈现\n",
    "    for i in range(20, 50, 1):\n",
    "        make_clear_dir()\n",
    "        sl = 0\n",
    "        try_times = 5\n",
    "        for j in range(0, try_times):#对每个k值进行多次kmeans聚类，得到评分的均值\n",
    "            score = train(X, vectorizer, true_k = i)\n",
    "            sl = sl + score\n",
    "        print('K = ', i, 'AVG_SCORE = ', score)\n",
    "        true_ks.append(i)\n",
    "        scores.append(sl/try_times)\n",
    "    #画图\n",
    "    plt.figure(figsize=(8, 4))\n",
    "    plt.plot(true_ks, scores, label=\"error\", color=\"red\", linewidth=1)\n",
    "    plt.xlabel(\"n_features\")\n",
    "    plt.ylabel(\"error\")\n",
    "    plt.legend()\n",
    "    plt.show()"
   ]
  },
  {
   "cell_type": "code",
   "execution_count": null,
   "id": "0717d2be",
   "metadata": {},
   "outputs": [
    {
     "name": "stdout",
     "output_type": "stream",
     "text": [
      "loadding 0...\n",
      "loadding 200...\n",
      "loadding 400...\n",
      "loadding 600...\n",
      "loadding 800...\n",
      "loadding 1000...\n",
      "loadding 1200...\n",
      "1276 documents\n",
      "K= 20 score: 0.7739 silhouette_score: 0.0397\n",
      "K= 20 score: 0.7744 silhouette_score: 0.0388\n",
      "K= 20 score: 0.7734 silhouette_score: 0.0441\n",
      "K= 20 score: 0.7736 silhouette_score: 0.0452\n",
      "K= 20 score: 0.7751 silhouette_score: 0.0404\n",
      "K =  20 AVG_SCORE =  0.7750967307155936\n",
      "K= 21 score: 0.7674 silhouette_score: 0.0427\n",
      "K= 21 score: 0.7704 silhouette_score: 0.0401\n",
      "K= 21 score: 0.7678 silhouette_score: 0.0441\n",
      "K= 21 score: 0.7658 silhouette_score: 0.0440\n",
      "K= 21 score: 0.7664 silhouette_score: 0.0470\n",
      "K =  21 AVG_SCORE =  0.7663832765191462\n",
      "K= 22 score: 0.7640 silhouette_score: 0.0425\n",
      "K= 22 score: 0.7643 silhouette_score: 0.0446\n",
      "K= 22 score: 0.7655 silhouette_score: 0.0457\n",
      "K= 22 score: 0.7628 silhouette_score: 0.0435\n",
      "K= 22 score: 0.7643 silhouette_score: 0.0447\n",
      "K =  22 AVG_SCORE =  0.7643224160069781\n",
      "K= 23 score: 0.7601 silhouette_score: 0.0457\n",
      "K= 23 score: 0.7592 silhouette_score: 0.0457\n",
      "K= 23 score: 0.7641 silhouette_score: 0.0416\n",
      "K= 23 score: 0.7613 silhouette_score: 0.0432\n",
      "K= 23 score: 0.7582 silhouette_score: 0.0468\n",
      "K =  23 AVG_SCORE =  0.7582484509401173\n",
      "K= 24 score: 0.7573 silhouette_score: 0.0473\n",
      "K= 24 score: 0.7547 silhouette_score: 0.0507\n",
      "K= 24 score: 0.7593 silhouette_score: 0.0563\n",
      "K= 24 score: 0.7588 silhouette_score: 0.0435\n",
      "K= 24 score: 0.7558 silhouette_score: 0.0501\n",
      "K =  24 AVG_SCORE =  0.7557846430295299\n",
      "K= 25 score: 0.7519 silhouette_score: 0.0510\n",
      "K= 25 score: 0.7530 silhouette_score: 0.0494\n",
      "K= 25 score: 0.7565 silhouette_score: 0.0447\n",
      "K= 25 score: 0.7505 silhouette_score: 0.0452\n",
      "K= 25 score: 0.7525 silhouette_score: 0.0457\n",
      "K =  25 AVG_SCORE =  0.752541148594039\n",
      "K= 26 score: 0.7496 silhouette_score: 0.0473\n",
      "K= 26 score: 0.7489 silhouette_score: 0.0525\n",
      "K= 26 score: 0.7482 silhouette_score: 0.0509\n",
      "K= 26 score: 0.7503 silhouette_score: 0.0472\n",
      "K= 26 score: 0.7517 silhouette_score: 0.0441\n",
      "K =  26 AVG_SCORE =  0.7517311292071864\n",
      "K= 27 score: 0.7473 silhouette_score: 0.0507\n",
      "K= 27 score: 0.7492 silhouette_score: 0.0512\n",
      "K= 27 score: 0.7500 silhouette_score: 0.0463\n",
      "K= 27 score: 0.7478 silhouette_score: 0.0471\n",
      "K= 27 score: 0.7466 silhouette_score: 0.0485\n",
      "K =  27 AVG_SCORE =  0.746559570761465\n",
      "K= 28 score: 0.7444 silhouette_score: 0.0518\n",
      "K= 28 score: 0.7455 silhouette_score: 0.0501\n",
      "K= 28 score: 0.7441 silhouette_score: 0.0508\n",
      "K= 28 score: 0.7460 silhouette_score: 0.0524\n",
      "K= 28 score: 0.7427 silhouette_score: 0.0502\n",
      "K =  28 AVG_SCORE =  0.7427067300861508\n",
      "K= 29 score: 0.7413 silhouette_score: 0.0509\n",
      "K= 29 score: 0.7402 silhouette_score: 0.0530\n",
      "K= 29 score: 0.7404 silhouette_score: 0.0526\n",
      "K= 29 score: 0.7415 silhouette_score: 0.0515\n",
      "K= 29 score: 0.7396 silhouette_score: 0.0506\n",
      "K =  29 AVG_SCORE =  0.7395650827748076\n",
      "K= 30 score: 0.7366 silhouette_score: 0.0550\n",
      "K= 30 score: 0.7396 silhouette_score: 0.0511\n",
      "K= 30 score: 0.7353 silhouette_score: 0.0519\n",
      "K= 30 score: 0.7353 silhouette_score: 0.0522\n",
      "K= 30 score: 0.7376 silhouette_score: 0.0511\n",
      "K =  30 AVG_SCORE =  0.7375948975205607\n",
      "K= 31 score: 0.7346 silhouette_score: 0.0549\n",
      "K= 31 score: 0.7329 silhouette_score: 0.0531\n",
      "K= 31 score: 0.7347 silhouette_score: 0.0570\n",
      "K= 31 score: 0.7345 silhouette_score: 0.0524\n",
      "K= 31 score: 0.7331 silhouette_score: 0.0522\n",
      "K =  31 AVG_SCORE =  0.7331154668788232\n",
      "K= 32 score: 0.7304 silhouette_score: 0.0547\n",
      "K= 32 score: 0.7320 silhouette_score: 0.0529\n",
      "K= 32 score: 0.7287 silhouette_score: 0.0541\n",
      "K= 32 score: 0.7312 silhouette_score: 0.0543\n",
      "K= 32 score: 0.7311 silhouette_score: 0.0506\n",
      "K =  32 AVG_SCORE =  0.7310706646924076\n",
      "K= 33 score: 0.7274 silhouette_score: 0.0547\n",
      "K= 33 score: 0.7277 silhouette_score: 0.0543\n",
      "K= 33 score: 0.7268 silhouette_score: 0.0567\n",
      "K= 33 score: 0.7271 silhouette_score: 0.0542\n",
      "K= 33 score: 0.7302 silhouette_score: 0.0562\n",
      "K =  33 AVG_SCORE =  0.7301923060976244\n",
      "K= 34 score: 0.7271 silhouette_score: 0.0490\n",
      "K= 34 score: 0.7250 silhouette_score: 0.0540\n",
      "K= 34 score: 0.7256 silhouette_score: 0.0547\n",
      "K= 34 score: 0.7244 silhouette_score: 0.0544\n",
      "K= 34 score: 0.7270 silhouette_score: 0.0569\n",
      "K =  34 AVG_SCORE =  0.7270377017331393\n",
      "K= 35 score: 0.7230 silhouette_score: 0.0532\n",
      "K= 35 score: 0.7225 silhouette_score: 0.0560\n",
      "K= 35 score: 0.7240 silhouette_score: 0.0516\n",
      "K= 35 score: 0.7250 silhouette_score: 0.0527\n",
      "K= 35 score: 0.7229 silhouette_score: 0.0580\n",
      "K =  35 AVG_SCORE =  0.7229355260217355\n",
      "K= 36 score: 0.7172 silhouette_score: 0.0607\n",
      "K= 36 score: 0.7182 silhouette_score: 0.0577\n",
      "K= 36 score: 0.7184 silhouette_score: 0.0571\n",
      "K= 36 score: 0.7181 silhouette_score: 0.0545\n",
      "K= 36 score: 0.7202 silhouette_score: 0.0601\n",
      "K =  36 AVG_SCORE =  0.7201512326542026\n",
      "K= 37 score: 0.7177 silhouette_score: 0.0576\n",
      "K= 37 score: 0.7148 silhouette_score: 0.0583\n",
      "K= 37 score: 0.7173 silhouette_score: 0.0550\n",
      "K= 37 score: 0.7163 silhouette_score: 0.0564\n",
      "K= 37 score: 0.7173 silhouette_score: 0.0563\n",
      "K =  37 AVG_SCORE =  0.7173176404015403\n",
      "K= 38 score: 0.7163 silhouette_score: 0.0580\n",
      "K= 38 score: 0.7121 silhouette_score: 0.0602\n",
      "K= 38 score: 0.7137 silhouette_score: 0.0611\n",
      "K= 38 score: 0.7138 silhouette_score: 0.0585\n",
      "K= 38 score: 0.7152 silhouette_score: 0.0573\n",
      "K =  38 AVG_SCORE =  0.7151595960833463\n",
      "K= 39 score: 0.7103 silhouette_score: 0.0577\n",
      "K= 39 score: 0.7114 silhouette_score: 0.0590\n",
      "K= 39 score: 0.7108 silhouette_score: 0.0572\n",
      "K= 39 score: 0.7098 silhouette_score: 0.0590\n",
      "K= 39 score: 0.7129 silhouette_score: 0.0561\n",
      "K =  39 AVG_SCORE =  0.7129208921926584\n",
      "K= 40 score: 0.7074 silhouette_score: 0.0597\n",
      "K= 40 score: 0.7108 silhouette_score: 0.0580\n",
      "K= 40 score: 0.7091 silhouette_score: 0.0579\n",
      "K= 40 score: 0.7092 silhouette_score: 0.0560\n",
      "K= 40 score: 0.7092 silhouette_score: 0.0576\n",
      "K =  40 AVG_SCORE =  0.7092271885935004\n",
      "K= 41 score: 0.7101 silhouette_score: 0.0596\n",
      "K= 41 score: 0.7069 silhouette_score: 0.0602\n",
      "K= 41 score: 0.7069 silhouette_score: 0.0603\n",
      "K= 41 score: 0.7086 silhouette_score: 0.0554\n",
      "K= 41 score: 0.7037 silhouette_score: 0.0619\n",
      "K =  41 AVG_SCORE =  0.7037405583546106\n",
      "K= 42 score: 0.7025 silhouette_score: 0.0634\n",
      "K= 42 score: 0.7062 silhouette_score: 0.0588\n",
      "K= 42 score: 0.7053 silhouette_score: 0.0619\n",
      "K= 42 score: 0.7048 silhouette_score: 0.0616\n",
      "K= 42 score: 0.7015 silhouette_score: 0.0630\n",
      "K =  42 AVG_SCORE =  0.7015308205202644\n",
      "K= 43 score: 0.7020 silhouette_score: 0.0635\n",
      "K= 43 score: 0.6962 silhouette_score: 0.0642\n",
      "K= 43 score: 0.7026 silhouette_score: 0.0572\n",
      "K= 43 score: 0.7013 silhouette_score: 0.0615\n",
      "K= 43 score: 0.7016 silhouette_score: 0.0598\n",
      "K =  43 AVG_SCORE =  0.7016461071513435\n",
      "K= 44 score: 0.6990 silhouette_score: 0.0613\n",
      "K= 44 score: 0.6995 silhouette_score: 0.0610\n",
      "K= 44 score: 0.6987 silhouette_score: 0.0623\n",
      "K= 44 score: 0.6979 silhouette_score: 0.0625\n",
      "K= 44 score: 0.6998 silhouette_score: 0.0608\n",
      "K =  44 AVG_SCORE =  0.699813602859132\n",
      "K= 45 score: 0.6939 silhouette_score: 0.0618\n",
      "K= 45 score: 0.6980 silhouette_score: 0.0607\n",
      "K= 45 score: 0.6973 silhouette_score: 0.0627\n",
      "K= 45 score: 0.6952 silhouette_score: 0.0652\n",
      "K= 45 score: 0.6958 silhouette_score: 0.0615\n",
      "K =  45 AVG_SCORE =  0.6957999396675035\n",
      "K= 46 score: 0.6925 silhouette_score: 0.0633\n",
      "K= 46 score: 0.6937 silhouette_score: 0.0634\n",
      "K= 46 score: 0.6943 silhouette_score: 0.0627\n",
      "K= 46 score: 0.6942 silhouette_score: 0.0655\n",
      "K= 46 score: 0.6946 silhouette_score: 0.0629\n",
      "K =  46 AVG_SCORE =  0.6945949447563987\n",
      "K= 47 score: 0.6917 silhouette_score: 0.0615\n",
      "K= 47 score: 0.6898 silhouette_score: 0.0639\n",
      "K= 47 score: 0.6913 silhouette_score: 0.0647\n",
      "K= 47 score: 0.6927 silhouette_score: 0.0618\n",
      "K= 47 score: 0.6917 silhouette_score: 0.0624\n",
      "K =  47 AVG_SCORE =  0.6916772516282368\n",
      "K= 48 score: 0.6921 silhouette_score: 0.0629\n",
      "K= 48 score: 0.6896 silhouette_score: 0.0632\n",
      "K= 48 score: 0.6885 silhouette_score: 0.0644\n",
      "K= 48 score: 0.6904 silhouette_score: 0.0636\n",
      "K= 48 score: 0.6885 silhouette_score: 0.0635\n",
      "K =  48 AVG_SCORE =  0.6884863294713961\n",
      "K= 49 score: 0.6891 silhouette_score: 0.0634\n",
      "K= 49 score: 0.6872 silhouette_score: 0.0659\n",
      "K= 49 score: 0.6883 silhouette_score: 0.0612\n",
      "K= 49 score: 0.6855 silhouette_score: 0.0658\n",
      "K= 49 score: 0.6861 silhouette_score: 0.0661\n",
      "K =  49 AVG_SCORE =  0.686145110817252\n"
     ]
    },
    {
     "data": {
      "image/png": "[encoded data removed]",
      "text/plain": [
       "<Figure size 800x400 with 1 Axes>"
      ]
     },
     "metadata": {},
     "output_type": "display_data"
    }
   ],
   "source": [
    "get_best_K()"
   ]
  },
  {
   "cell_type": "code",
   "execution_count": null,
   "id": "d3ed6153",
   "metadata": {},
   "outputs": [],
   "source": [
    "#选择39作为聚类K\n",
    "K = 39\n",
    "def classify():\n",
    "    '''在最优参数下输出聚类结果'''\n",
    "\n",
    "    make_clear_dir()\n",
    "    \n",
    "    global labels\n",
    "    labels = []\n",
    "    \n",
    "    print('loadDataset...')\n",
    "    dataset = loadDataset()\n",
    "    print('loadDataset done')\n",
    "    X, vectorizer = transform(dataset, n_features=1000)\n",
    "    print('transform done...')\n",
    "    #在最优参数下进行多次聚类，当分数小于0.72时表示符合要求，并取该次结果为最终结果\n",
    "    for i in range(0, 1000):\n",
    "        print('train ', i)\n",
    "        score = train(X, vectorizer, true_k = K, showLable=True, copyFile=True, printInfo=True, targetScore=0.720)\n",
    "        print(score)\n",
    "        if score<0.730:\n",
    "            break"
   ]
  },
  {
   "cell_type": "code",
   "execution_count": null,
   "id": "9f6aaa17",
   "metadata": {},
   "outputs": [
    {
     "name": "stdout",
     "output_type": "stream",
     "text": [
      "loadDataset...\n",
      "loadding 0...\n",
      "loadding 200...\n",
      "loadding 400...\n",
      "loadding 600...\n",
      "loadding 800...\n",
      "loadding 1000...\n",
      "loadding 1200...\n",
      "loadDataset done\n",
      "transform done...\n",
      "train  0\n"
     ]
    },
    {
     "ename": "FileNotFoundError",
     "evalue": "[Errno 2] No such file or directory: './data/news_data/以高水平开放推动高质量发展（现场评论·新时代的伟大实践⑫）.txt'",
     "output_type": "error",
     "traceback": [
      "\u001b[1;31m---------------------------------------------------------------------------\u001b[0m",
      "\u001b[1;31mFileNotFoundError\u001b[0m                         Traceback (most recent call last)",
      "Cell \u001b[1;32mIn[50], line 1\u001b[0m\n\u001b[1;32m----> 1\u001b[0m classify()\n",
      "Cell \u001b[1;32mIn[48], line 19\u001b[0m, in \u001b[0;36mclassify\u001b[1;34m()\u001b[0m\n\u001b[0;32m     17\u001b[0m \u001b[38;5;28;01mfor\u001b[39;00m i \u001b[38;5;129;01min\u001b[39;00m \u001b[38;5;28mrange\u001b[39m(\u001b[38;5;241m0\u001b[39m, \u001b[38;5;241m1000\u001b[39m):\n\u001b[0;32m     18\u001b[0m     \u001b[38;5;28mprint\u001b[39m(\u001b[38;5;124m'\u001b[39m\u001b[38;5;124mtrain \u001b[39m\u001b[38;5;124m'\u001b[39m, i)\n\u001b[1;32m---> 19\u001b[0m     score \u001b[38;5;241m=\u001b[39m train(X, vectorizer, true_k \u001b[38;5;241m=\u001b[39m K, showLable\u001b[38;5;241m=\u001b[39m\u001b[38;5;28;01mTrue\u001b[39;00m, copyFile\u001b[38;5;241m=\u001b[39m\u001b[38;5;28;01mTrue\u001b[39;00m, printInfo\u001b[38;5;241m=\u001b[39m\u001b[38;5;28;01mTrue\u001b[39;00m, targetScore\u001b[38;5;241m=\u001b[39m\u001b[38;5;241m0.720\u001b[39m)\n\u001b[0;32m     20\u001b[0m     \u001b[38;5;28mprint\u001b[39m(score)\n\u001b[0;32m     21\u001b[0m     \u001b[38;5;28;01mif\u001b[39;00m score\u001b[38;5;241m<\u001b[39m\u001b[38;5;241m0.730\u001b[39m:\n",
      "Cell \u001b[1;32mIn[40], line 32\u001b[0m, in \u001b[0;36mtrain\u001b[1;34m(X, vectorizer, true_k, minibatch, showLable, copyFile, printInfo, targetScore)\u001b[0m\n\u001b[0;32m     30\u001b[0m                 label_i\u001b[38;5;241m.\u001b[39mappend(labels[j])\n\u001b[0;32m     31\u001b[0m                 title \u001b[38;5;241m=\u001b[39m labels[j]\n\u001b[1;32m---> 32\u001b[0m                 shutil\u001b[38;5;241m.\u001b[39mcopy(\u001b[38;5;124m'\u001b[39m\u001b[38;5;124m./data/news_data/\u001b[39m\u001b[38;5;124m'\u001b[39m \u001b[38;5;241m+\u001b[39m title \u001b[38;5;241m+\u001b[39m \u001b[38;5;124m'\u001b[39m\u001b[38;5;124m.txt\u001b[39m\u001b[38;5;124m'\u001b[39m,\u001b[38;5;124m'\u001b[39m\u001b[38;5;124m./data/label/label_\u001b[39m\u001b[38;5;124m'\u001b[39m \u001b[38;5;241m+\u001b[39m \u001b[38;5;28mstr\u001b[39m(i) \u001b[38;5;241m+\u001b[39m \u001b[38;5;124m'\u001b[39m\u001b[38;5;124m/\u001b[39m\u001b[38;5;124m'\u001b[39m \u001b[38;5;241m+\u001b[39m title \u001b[38;5;241m+\u001b[39m \u001b[38;5;124m'\u001b[39m\u001b[38;5;124m.txt\u001b[39m\u001b[38;5;124m'\u001b[39m)                \n\u001b[0;32m     34\u001b[0m \u001b[38;5;66;03m#展示分类后每一类的文本中心词\u001b[39;00m\n\u001b[0;32m     35\u001b[0m \u001b[38;5;28;01mif\u001b[39;00m showLable:\n\u001b[0;32m     36\u001b[0m     \u001b[38;5;66;03m#print(\"K个质心的位置:\")\u001b[39;00m\n\u001b[0;32m     37\u001b[0m     \u001b[38;5;66;03m#print(km.cluster_centers_)\u001b[39;00m\n\u001b[0;32m     38\u001b[0m     \u001b[38;5;66;03m#对质心的轴进行排序，得到质心的中心词id\u001b[39;00m\n",
      "File \u001b[1;32m~\\anaconda3\\Lib\\shutil.py:435\u001b[0m, in \u001b[0;36mcopy\u001b[1;34m(src, dst, follow_symlinks)\u001b[0m\n\u001b[0;32m    433\u001b[0m \u001b[38;5;28;01mif\u001b[39;00m os\u001b[38;5;241m.\u001b[39mpath\u001b[38;5;241m.\u001b[39misdir(dst):\n\u001b[0;32m    434\u001b[0m     dst \u001b[38;5;241m=\u001b[39m os\u001b[38;5;241m.\u001b[39mpath\u001b[38;5;241m.\u001b[39mjoin(dst, os\u001b[38;5;241m.\u001b[39mpath\u001b[38;5;241m.\u001b[39mbasename(src))\n\u001b[1;32m--> 435\u001b[0m copyfile(src, dst, follow_symlinks\u001b[38;5;241m=\u001b[39mfollow_symlinks)\n\u001b[0;32m    436\u001b[0m copymode(src, dst, follow_symlinks\u001b[38;5;241m=\u001b[39mfollow_symlinks)\n\u001b[0;32m    437\u001b[0m \u001b[38;5;28;01mreturn\u001b[39;00m dst\n",
      "File \u001b[1;32m~\\anaconda3\\Lib\\shutil.py:260\u001b[0m, in \u001b[0;36mcopyfile\u001b[1;34m(src, dst, follow_symlinks)\u001b[0m\n\u001b[0;32m    258\u001b[0m     os\u001b[38;5;241m.\u001b[39msymlink(os\u001b[38;5;241m.\u001b[39mreadlink(src), dst)\n\u001b[0;32m    259\u001b[0m \u001b[38;5;28;01melse\u001b[39;00m:\n\u001b[1;32m--> 260\u001b[0m     \u001b[38;5;28;01mwith\u001b[39;00m \u001b[38;5;28mopen\u001b[39m(src, \u001b[38;5;124m'\u001b[39m\u001b[38;5;124mrb\u001b[39m\u001b[38;5;124m'\u001b[39m) \u001b[38;5;28;01mas\u001b[39;00m fsrc:\n\u001b[0;32m    261\u001b[0m         \u001b[38;5;28;01mtry\u001b[39;00m:\n\u001b[0;32m    262\u001b[0m             \u001b[38;5;28;01mwith\u001b[39;00m \u001b[38;5;28mopen\u001b[39m(dst, \u001b[38;5;124m'\u001b[39m\u001b[38;5;124mwb\u001b[39m\u001b[38;5;124m'\u001b[39m) \u001b[38;5;28;01mas\u001b[39;00m fdst:\n\u001b[0;32m    263\u001b[0m                 \u001b[38;5;66;03m# macOS\u001b[39;00m\n",
      "\u001b[1;31mFileNotFoundError\u001b[0m: [Errno 2] No such file or directory: './data/news_data/以高水平开放推动高质量发展（现场评论·新时代的伟大实践⑫）.txt'"
     ]
    }
   ],
   "source": [
    "classify()"
   ]
  },
  {
   "cell_type": "code",
   "execution_count": null,
   "id": "64243277",
   "metadata": {},
   "outputs": [],
   "source": []
  }
 ],
 "metadata": {
  "kernelspec": {
   "display_name": "base",
   "language": "python",
   "name": "python3"
  },
  "language_info": {
   "codemirror_mode": {
    "name": "ipython",
    "version": 3
   },
   "file_extension": ".py",
   "mimetype": "text/x-python",
   "name": "python",
   "nbconvert_exporter": "python",
   "pygments_lexer": "ipython3",
   "version": "3.8.0"
  }
 },
 "nbformat": 4,
 "nbformat_minor": 5
}
